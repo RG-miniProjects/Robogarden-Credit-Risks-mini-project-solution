{
 "cells": [
  {
   "cell_type": "markdown",
   "metadata": {},
   "source": [
    "# Import libraries"
   ]
  },
  {
   "cell_type": "code",
   "execution_count": 1,
   "metadata": {},
   "outputs": [],
   "source": [
    "import pandas as pd\n",
    "import numpy as np\n",
    "from sklearn.preprocessing import StandardScaler\n",
    "from sklearn.preprocessing import LabelEncoder\n",
    "from sklearn.datasets import fetch_openml\n",
    "from sklearn.neighbors import KNeighborsClassifier \n",
    "from sklearn.model_selection import train_test_split\n",
    "from matplotlib import pyplot as plt\n",
    "from sklearn.metrics import confusion_matrix \n",
    "from matplotlib.pyplot import figure\n",
    "import seaborn as sns\n",
    "%matplotlib inline"
   ]
  },
  {
   "cell_type": "markdown",
   "metadata": {},
   "source": [
    "# Read dataset and handle missing "
   ]
  },
  {
   "cell_type": "code",
   "execution_count": 1,
   "metadata": {},
   "outputs": [
    {
     "ename": "NameError",
     "evalue": "name 'fetch_openml' is not defined",
     "output_type": "error",
     "traceback": [
      "\u001b[1;31m---------------------------------------------------------------------------\u001b[0m",
      "\u001b[1;31mNameError\u001b[0m                                 Traceback (most recent call last)",
      "\u001b[1;32m<ipython-input-1-5d54ce514ea7>\u001b[0m in \u001b[0;36m<module>\u001b[1;34m\u001b[0m\n\u001b[0;32m      1\u001b[0m \u001b[1;31m# read dataset\u001b[0m\u001b[1;33m\u001b[0m\u001b[1;33m\u001b[0m\u001b[0m\n\u001b[1;32m----> 2\u001b[1;33m \u001b[0mdata\u001b[0m\u001b[1;33m=\u001b[0m\u001b[0mfetch_openml\u001b[0m\u001b[1;33m(\u001b[0m\u001b[0mname\u001b[0m\u001b[1;33m=\u001b[0m\u001b[1;34m\"credit-g\"\u001b[0m\u001b[1;33m,\u001b[0m \u001b[0mas_frame\u001b[0m\u001b[1;33m=\u001b[0m\u001b[1;32mTrue\u001b[0m\u001b[1;33m)\u001b[0m\u001b[1;33m\u001b[0m\u001b[0m\n\u001b[0m\u001b[0;32m      3\u001b[0m \u001b[1;31m# print(\"data=\", data.frame)\u001b[0m\u001b[1;33m\u001b[0m\u001b[1;33m\u001b[0m\u001b[0m\n\u001b[0;32m      4\u001b[0m \u001b[1;31m# print(\"type=\",type(data.frame))\u001b[0m\u001b[1;33m\u001b[0m\u001b[1;33m\u001b[0m\u001b[0m\n\u001b[0;32m      5\u001b[0m \u001b[0mdf\u001b[0m\u001b[1;33m=\u001b[0m\u001b[0mdata\u001b[0m\u001b[1;33m.\u001b[0m\u001b[0mframe\u001b[0m\u001b[1;33m\u001b[0m\u001b[0m\n",
      "\u001b[1;31mNameError\u001b[0m: name 'fetch_openml' is not defined"
     ]
    }
   ],
   "source": [
    "# read dataset \n",
    "data=fetch_openml(name=\"credit-g\", as_frame=True)\n",
    "# print(\"data=\", data.frame)\n",
    "# print(\"type=\",type(data.frame))\n",
    "df=data.frame\n",
    "##count number of missing in the dataset\n",
    "print(\"number of missing at each attribute:\")\n",
    "print(df.isnull().sum())\n",
    "## number of rows before removing the missing entries\n",
    "print(\"number of rows before removing missing entries:\", df.shape[0])\n",
    "## remove missing entries \n",
    "df=df.dropna()\n",
    "## number of rows after removing the missing entries\n",
    "print(\"number of rows after removing missing entries:\", df.shape[0])"
   ]
  },
  {
   "cell_type": "markdown",
   "metadata": {},
   "source": [
    "# Feature selection"
   ]
  },
  {
   "cell_type": "code",
   "execution_count": 14,
   "metadata": {},
   "outputs": [
    {
     "name": "stdout",
     "output_type": "stream",
     "text": [
      "Index(['checking_status', 'credit_history', 'purpose', 'savings_status',\n",
      "       'employment', 'installment_commitment', 'personal_status',\n",
      "       'other_parties', 'property_magnitude', 'housing', 'existing_credits',\n",
      "       'job', 'num_dependents', 'class'],\n",
      "      dtype='object')\n"
     ]
    }
   ],
   "source": [
    "## drop categorical: own_telephone, foreign_worker, other_payment_plans\n",
    "## drop numerical: Age, residence_since, credit_amount, duration\n",
    "df=df.drop([\"own_telephone\", \"foreign_worker\", \"other_payment_plans\",\"age\", \"residence_since\", \"credit_amount\", \"duration\"], axis=1)\n",
    "print(df.columns)\n"
   ]
  },
  {
   "cell_type": "markdown",
   "metadata": {},
   "source": [
    "# Preprocessing"
   ]
  },
  {
   "cell_type": "code",
   "execution_count": 23,
   "metadata": {},
   "outputs": [
    {
     "name": "stdout",
     "output_type": "stream",
     "text": [
      "numeric df coumns= ['installment_commitment', 'existing_credits', 'num_dependents']\n",
      "<class 'pandas.core.frame.DataFrame'>\n",
      "    checking_status                  credit_history              purpose  \\\n",
      "0                <0  critical/other existing credit             radio/tv   \n",
      "1          0<=X<200                   existing paid             radio/tv   \n",
      "2       no checking  critical/other existing credit            education   \n",
      "3                <0                   existing paid  furniture/equipment   \n",
      "4                <0              delayed previously              new car   \n",
      "..              ...                             ...                  ...   \n",
      "995     no checking                   existing paid  furniture/equipment   \n",
      "996              <0                   existing paid             used car   \n",
      "997     no checking                   existing paid             radio/tv   \n",
      "998              <0                   existing paid             radio/tv   \n",
      "999        0<=X<200  critical/other existing credit             used car   \n",
      "\n",
      "       savings_status  employment  installment_commitment     personal_status  \\\n",
      "0    no known savings         >=7                0.918477         male single   \n",
      "1                <100      1<=X<4               -0.870183  female div/dep/mar   \n",
      "2                <100      4<=X<7               -0.870183         male single   \n",
      "3                <100      4<=X<7               -0.870183         male single   \n",
      "4                <100      1<=X<4                0.024147         male single   \n",
      "..                ...         ...                     ...                 ...   \n",
      "995              <100      4<=X<7                0.024147  female div/dep/mar   \n",
      "996              <100      1<=X<4                0.918477        male div/sep   \n",
      "997              <100         >=7                0.918477         male single   \n",
      "998              <100      1<=X<4                0.918477         male single   \n",
      "999        100<=X<500  unemployed                0.024147         male single   \n",
      "\n",
      "    other_parties property_magnitude   housing  existing_credits  \\\n",
      "0            none        real estate       own          1.027079   \n",
      "1            none        real estate       own         -0.704926   \n",
      "2            none        real estate       own         -0.704926   \n",
      "3       guarantor     life insurance  for free         -0.704926   \n",
      "4            none  no known property  for free          1.027079   \n",
      "..            ...                ...       ...               ...   \n",
      "995          none        real estate       own         -0.704926   \n",
      "996          none     life insurance       own         -0.704926   \n",
      "997          none                car       own         -0.704926   \n",
      "998          none  no known property  for free         -0.704926   \n",
      "999          none                car       own         -0.704926   \n",
      "\n",
      "                           job  num_dependents class  \n",
      "0                      skilled       -0.428290  good  \n",
      "1                      skilled       -0.428290   bad  \n",
      "2           unskilled resident        2.334869  good  \n",
      "3                      skilled        2.334869  good  \n",
      "4                      skilled        2.334869   bad  \n",
      "..                         ...             ...   ...  \n",
      "995         unskilled resident       -0.428290  good  \n",
      "996  high qualif/self emp/mgmt       -0.428290  good  \n",
      "997                    skilled       -0.428290  good  \n",
      "998                    skilled       -0.428290   bad  \n",
      "999                    skilled       -0.428290  good  \n",
      "\n",
      "[1000 rows x 14 columns]\n"
     ]
    }
   ],
   "source": [
    "#scaling numeric attribute\n",
    "scaler = StandardScaler()\n",
    "numeric_df=df.select_dtypes(include=np.number)\n",
    "num_colum_names= numeric_df.columns.tolist()\n",
    "print(\"numeric df coumns=\", num_colum_names)\n",
    "print(type(numeric_df))\n",
    "df[num_colum_names]= scaler.fit_transform(df[num_colum_names])\n",
    "print(df)\n"
   ]
  },
  {
   "cell_type": "code",
   "execution_count": 29,
   "metadata": {},
   "outputs": [
    {
     "name": "stdout",
     "output_type": "stream",
     "text": [
      "categ_attributes= ['checking_status', 'credit_history', 'purpose', 'savings_status', 'employment', 'personal_status', 'other_parties', 'property_magnitude', 'housing', 'job', 'class']\n",
      "     checking_status  credit_history  purpose  savings_status  employment  \\\n",
      "0                  1               1        6               4           3   \n",
      "1                  0               3        6               2           0   \n",
      "2                  3               1        2               2           1   \n",
      "3                  1               3        3               2           1   \n",
      "4                  1               2        4               2           0   \n",
      "..               ...             ...      ...             ...         ...   \n",
      "995                3               3        3               2           1   \n",
      "996                1               3        9               2           0   \n",
      "997                3               3        6               2           3   \n",
      "998                1               3        6               2           0   \n",
      "999                0               1        9               0           4   \n",
      "\n",
      "     installment_commitment  personal_status  other_parties  \\\n",
      "0                  0.918477                3              2   \n",
      "1                 -0.870183                0              2   \n",
      "2                 -0.870183                3              2   \n",
      "3                 -0.870183                3              1   \n",
      "4                  0.024147                3              2   \n",
      "..                      ...              ...            ...   \n",
      "995                0.024147                0              2   \n",
      "996                0.918477                1              2   \n",
      "997                0.918477                3              2   \n",
      "998                0.918477                3              2   \n",
      "999                0.024147                3              2   \n",
      "\n",
      "     property_magnitude  housing  existing_credits  job  num_dependents  class  \n",
      "0                     3        1          1.027079    1       -0.428290      1  \n",
      "1                     3        1         -0.704926    1       -0.428290      0  \n",
      "2                     3        1         -0.704926    3        2.334869      1  \n",
      "3                     1        0         -0.704926    1        2.334869      1  \n",
      "4                     2        0          1.027079    1        2.334869      0  \n",
      "..                  ...      ...               ...  ...             ...    ...  \n",
      "995                   3        1         -0.704926    3       -0.428290      1  \n",
      "996                   1        1         -0.704926    0       -0.428290      1  \n",
      "997                   0        1         -0.704926    1       -0.428290      1  \n",
      "998                   2        0         -0.704926    1       -0.428290      0  \n",
      "999                   0        1         -0.704926    1       -0.428290      1  \n",
      "\n",
      "[1000 rows x 14 columns]\n"
     ]
    }
   ],
   "source": [
    "categ_attributes=df.select_dtypes(exclude=[\"number\",\"bool_\",\"object_\"]).columns.tolist()\n",
    "print(\"categ_attributes=\", categ_attributes)\n",
    "## encode diagnosis \n",
    "encoder= LabelEncoder()\n",
    "for att_name in categ_attributes:\n",
    "    df[att_name]=encoder.fit_transform(df[att_name])\n",
    "print(df)"
   ]
  },
  {
   "cell_type": "markdown",
   "metadata": {},
   "source": [
    "# splitting dataset"
   ]
  },
  {
   "cell_type": "code",
   "execution_count": 36,
   "metadata": {},
   "outputs": [
    {
     "name": "stdout",
     "output_type": "stream",
     "text": [
      "size of training= 800\n",
      "size of validate= 100\n",
      "size of test= 100\n"
     ]
    }
   ],
   "source": [
    "X, Y= df.iloc[:, :-1], df.iloc[:, -1]\n",
    "# print(X)\n",
    "# print(Y)\n",
    "# X_train, X_test, y_train, y_test = train_test_split(X, y,\n",
    "#  test_size=0.33, random_state=0)\n",
    "train, validate, test = np.split(df.sample(frac=1, random_state=42), \n",
    "                       [int(.6*len(df)), int(.8*len(df))])\n",
    "# print(\"train=\", train)\n",
    "# print(\"validation=\", validate)\n",
    "# print(\"test=\", test)\n",
    "\n",
    "x, x_test, y, y_test = train_test_split(X, Y,test_size=0.1,train_size=0.9)\n",
    "x_train, x_validate, y_train, y_validate = train_test_split(x,y,test_size = 1/9.0,train_size =8/9.0)\n",
    "print(\"size of training=\", x_train.shape[0])\n",
    "print(\"size of validate=\", x_validate.shape[0])\n",
    "print(\"size of test=\", x_test.shape[0])\n"
   ]
  },
  {
   "cell_type": "markdown",
   "metadata": {},
   "source": [
    "# training classifier"
   ]
  },
  {
   "cell_type": "code",
   "execution_count": 70,
   "metadata": {},
   "outputs": [
    {
     "name": "stdout",
     "output_type": "stream",
     "text": [
      "score= 0.75\n",
      "score= 0.69\n",
      "score= 0.82\n",
      "score= 0.8\n",
      "score= 0.85\n",
      "score= 0.82\n",
      "score= 0.89\n",
      "score= 0.92\n",
      "score= 0.96\n",
      "score= 1.0\n",
      "score= 0.93\n",
      "score= 0.94\n",
      "score= 0.9\n",
      "score= 0.93\n",
      "score= 0.93\n",
      "score= 0.93\n",
      "score= 0.91\n",
      "score= 0.95\n",
      "score= 0.92\n",
      "score= 0.92\n"
     ]
    },
    {
     "data": {
      "text/plain": [
       "Text(0,0.5,'score')"
      ]
     },
     "execution_count": 70,
     "metadata": {},
     "output_type": "execute_result"
    },
    {
     "data": {
      "image/png": "[encoded data removed]",
      "text/plain": [
       "<Figure size 432x288 with 1 Axes>"
      ]
     },
     "metadata": {
      "needs_background": "light"
     },
     "output_type": "display_data"
    }
   ],
   "source": [
    "## train classifier \n",
    "score_ls=[]\n",
    "for K in range(1, 21):\n",
    "    model = KNeighborsClassifier(n_neighbors=K)\n",
    "    model.fit(x_train, y_train)\n",
    "    # y_validate = model.predict(x_validate)\n",
    "    # print(\"y_pred=\",y_validate)\n",
    "    score=model.score(x_validate,y_validate)\n",
    "    print(\"score=\",score)\n",
    "    score_ls.append(score)\n",
    "plt.plot(range(1,21),score_ls)\n",
    "plt.xlabel(\"k\")\n",
    "plt.ylabel(\"score\")"
   ]
  },
  {
   "cell_type": "markdown",
   "metadata": {},
   "source": [
    "# comment \n",
    "from the graph, one can see that the best k value that gives highest score is 10"
   ]
  },
  {
   "cell_type": "code",
   "execution_count": 76,
   "metadata": {},
   "outputs": [
    {
     "name": "stdout",
     "output_type": "stream",
     "text": [
      "score= 0.69\n",
      "[[15 18]\n",
      " [13 54]]\n"
     ]
    }
   ],
   "source": [
    "##test classifier at k=10\n",
    "model = KNeighborsClassifier(n_neighbors=10)\n",
    "model.fit(x_train, y_train)\n",
    "score=model.score(x_test,y_test)\n",
    "print(\"score=\",score)\n",
    "score_ls.append(score)\n",
    "##confusion matrix\n",
    "y_pred=model.predict(x_test)\n",
    "print(confusion_matrix(y_test, y_pred))"
   ]
  },
  {
   "cell_type": "code",
   "execution_count": null,
   "metadata": {},
   "outputs": [],
   "source": []
  }
 ],
 "metadata": {
  "kernelspec": {
   "display_name": "Python 3",
   "language": "python",
   "name": "python3"
  },
  "language_info": {
   "codemirror_mode": {
    "name": "ipython",
    "version": 3
   },
   "file_extension": ".py",
   "mimetype": "text/x-python",
   "name": "python",
   "nbconvert_exporter": "python",
   "pygments_lexer": "ipython3",
   "version": "3.6.5"
  }
 },
 "nbformat": 4,
 "nbformat_minor": 4
}
